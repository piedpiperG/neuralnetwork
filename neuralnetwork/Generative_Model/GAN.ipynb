{
 "cells": [
  {
   "cell_type": "markdown",
   "source": [
    "# GAN"
   ],
   "metadata": {
    "collapsed": false
   },
   "id": "b85aab728de5a0b8"
  },
  {
   "cell_type": "markdown",
   "source": [
    "### 导入依赖\n",
    "导入 PyTorch 相关的库和模块，用于构建和训练神经网络。\n",
    "导入数据加载和变换工具，以及 CIFAR-10 数据集。"
   ],
   "metadata": {
    "collapsed": false
   },
   "id": "bd813b8e897603ff"
  },
  {
   "cell_type": "code",
   "execution_count": null,
   "outputs": [],
   "source": [
    "import torch.nn as nn\n",
    "import torch.nn.init as init\n",
    "import torch\n",
    "import torch.optim\n",
    "from torch.utils.data import DataLoader\n",
    "from torchvision.datasets import CIFAR10\n",
    "import torchvision.transforms as transforms\n",
    "from torchvision.utils import save_image\n",
    "import matplotlib.pyplot as plt"
   ],
   "metadata": {
    "collapsed": false
   },
   "id": "90a917d5c5e9089b"
  },
  {
   "cell_type": "markdown",
   "source": [
    "### 网络结构设置\n",
    "latent_size: 隐向量的大小，生成器的输入尺寸。\n",
    "n_channel: 图像的通道数，对于 CIFAR-10 是 3（RGB）。\n",
    "n_g_feature, n_d_feature: 生成器和判别器的特征数量。"
   ],
   "metadata": {
    "collapsed": false
   },
   "id": "89b29eb61285d527"
  },
  {
   "cell_type": "code",
   "execution_count": 18,
   "outputs": [],
   "source": [
    "latent_size = 64\n",
    "n_channel = 3\n",
    "n_g_feature = 64\n",
    "n_d_feature = 64"
   ],
   "metadata": {
    "collapsed": false,
    "ExecuteTime": {
     "end_time": "2023-12-23T07:40:42.101081700Z",
     "start_time": "2023-12-23T07:40:42.087080100Z"
    }
   },
   "id": "5ffb42b3cfd4d4e9"
  },
  {
   "cell_type": "markdown",
   "source": [
    "### 生成器（Generator）\n",
    "使用 nn.ConvTranspose2d 构建反卷积层，用于从隐向量生成图像。\n",
    "通过批量归一化（nn.BatchNorm2d）和激活函数（nn.ReLU）改善训练过程。\n",
    "最后一层使用 nn.Sigmoid，因为图像像素值在 [0,1] 范围内。"
   ],
   "metadata": {
    "collapsed": false
   },
   "id": "aecf9d1703da73ae"
  },
  {
   "cell_type": "code",
   "execution_count": 19,
   "outputs": [],
   "source": [
    "gnet = nn.Sequential(\n",
    "    nn.ConvTranspose2d(latent_size, 4 * n_g_feature, kernel_size=4, bias=False),\n",
    "    nn.BatchNorm2d(4 * n_g_feature),\n",
    "    nn.ReLU(),\n",
    "\n",
    "    nn.ConvTranspose2d(4 * n_g_feature, 2 * n_g_feature, kernel_size=4, stride=2, padding=1, bias=False),\n",
    "    nn.BatchNorm2d(2 * n_g_feature),\n",
    "    nn.ReLU(),\n",
    "\n",
    "    nn.ConvTranspose2d(2 * n_g_feature, n_g_feature, kernel_size=4, stride=2, padding=1, bias=False),\n",
    "    nn.BatchNorm2d(n_g_feature),\n",
    "    nn.ReLU(),\n",
    "\n",
    "    nn.ConvTranspose2d(n_g_feature, n_channel, kernel_size=4, stride=2, padding=1),\n",
    "    nn.Sigmoid()\n",
    ")"
   ],
   "metadata": {
    "collapsed": false,
    "ExecuteTime": {
     "end_time": "2023-12-23T07:40:42.151084300Z",
     "start_time": "2023-12-23T07:40:42.105081300Z"
    }
   },
   "id": "96d13ed259a6913"
  },
  {
   "cell_type": "markdown",
   "source": [
    "### 判别器（Discriminator）\n",
    "使用 nn.Conv2d 构建卷积层，用于将图像分类为真或假。\n",
    "使用 nn.LeakyReLU 作为激活函数。\n",
    "最后一层输出一个标量，表示图像为真的概率。"
   ],
   "metadata": {
    "collapsed": false
   },
   "id": "46ffe20e0d6652a8"
  },
  {
   "cell_type": "code",
   "execution_count": 20,
   "outputs": [],
   "source": [
    "dnet = nn.Sequential(\n",
    "    nn.Conv2d(n_channel, n_d_feature, kernel_size=4, stride=2, padding=1),\n",
    "    nn.LeakyReLU(0.2),\n",
    "\n",
    "    nn.Conv2d(n_d_feature, 2 * n_d_feature, kernel_size=4, stride=2, padding=1, bias=False),\n",
    "    nn.BatchNorm2d(2 * n_d_feature),\n",
    "    nn.LeakyReLU(0.2),\n",
    "\n",
    "    nn.Conv2d(2 * n_d_feature, 4 * n_d_feature, kernel_size=4, stride=2, padding=1, bias=False),\n",
    "    nn.BatchNorm2d(4 * n_d_feature),\n",
    "    nn.LeakyReLU(0.2),\n",
    "\n",
    "    nn.Conv2d(4 * n_d_feature, 1, kernel_size=4)\n",
    ")"
   ],
   "metadata": {
    "collapsed": false,
    "ExecuteTime": {
     "end_time": "2023-12-23T07:40:42.151084300Z",
     "start_time": "2023-12-23T07:40:42.135082500Z"
    }
   },
   "id": "d5c7fe5ee6fdf116"
  },
  {
   "cell_type": "markdown",
   "source": [
    "### 权重初始化\n",
    "使用 weights_init 函数来初始化网络权重，这有助于更好的训练。"
   ],
   "metadata": {
    "collapsed": false
   },
   "id": "8067368ebc550bb8"
  },
  {
   "cell_type": "code",
   "execution_count": 21,
   "outputs": [
    {
     "data": {
      "text/plain": "Sequential(\n  (0): Conv2d(3, 64, kernel_size=(4, 4), stride=(2, 2), padding=(1, 1))\n  (1): LeakyReLU(negative_slope=0.2)\n  (2): Conv2d(64, 128, kernel_size=(4, 4), stride=(2, 2), padding=(1, 1), bias=False)\n  (3): BatchNorm2d(128, eps=1e-05, momentum=0.1, affine=True, track_running_stats=True)\n  (4): LeakyReLU(negative_slope=0.2)\n  (5): Conv2d(128, 256, kernel_size=(4, 4), stride=(2, 2), padding=(1, 1), bias=False)\n  (6): BatchNorm2d(256, eps=1e-05, momentum=0.1, affine=True, track_running_stats=True)\n  (7): LeakyReLU(negative_slope=0.2)\n  (8): Conv2d(256, 1, kernel_size=(4, 4), stride=(1, 1))\n)"
     },
     "execution_count": 21,
     "metadata": {},
     "output_type": "execute_result"
    }
   ],
   "source": [
    "def weights_init(m):\n",
    "    if type(m) in [nn.ConvTranspose2d, nn.Conv2d]:\n",
    "        init.xavier_normal_(m.weight)\n",
    "    elif type(m) == nn.BatchNorm2d:\n",
    "        init.normal_(m.weight, 1.0, 0.02)\n",
    "        init.constant_(m.bias, 0)\n",
    "\n",
    "\n",
    "gnet.apply(weights_init)\n",
    "dnet.apply(weights_init)"
   ],
   "metadata": {
    "collapsed": false,
    "ExecuteTime": {
     "end_time": "2023-12-23T07:40:42.173080100Z",
     "start_time": "2023-12-23T07:40:42.149081700Z"
    }
   },
   "id": "2d988d32b2059f19"
  },
  {
   "cell_type": "markdown",
   "source": [
    "### 数据加载\n",
    "加载 CIFAR-10 数据集并应用变换。\n",
    "使用 DataLoader 进行批处理和洗牌。"
   ],
   "metadata": {
    "collapsed": false
   },
   "id": "d743b95f530b00ec"
  },
  {
   "cell_type": "code",
   "execution_count": 22,
   "outputs": [
    {
     "name": "stdout",
     "output_type": "stream",
     "text": [
      "Files already downloaded and verified\n"
     ]
    }
   ],
   "source": [
    "dataset = CIFAR10(root='./CIFARdata', download=True, transform=transforms.ToTensor())\n",
    "dataloader = DataLoader(dataset, batch_size=64, shuffle=True)"
   ],
   "metadata": {
    "collapsed": false,
    "ExecuteTime": {
     "end_time": "2023-12-23T07:40:42.913372100Z",
     "start_time": "2023-12-23T07:40:42.165082Z"
    }
   },
   "id": "67d076a20e900511"
  },
  {
   "cell_type": "markdown",
   "source": [
    "### 损失函数和优化器\n",
    "使用二元交叉熵损失（BCEWithLogitsLoss）。\n",
    "为生成器和判别器分别设置 Adam 优化器。\n",
    "训练过程"
   ],
   "metadata": {
    "collapsed": false
   },
   "id": "5fc02f66e5e8271e"
  },
  {
   "cell_type": "code",
   "execution_count": 23,
   "outputs": [],
   "source": [
    "criterion = nn.BCEWithLogitsLoss()\n",
    "goptimizer = torch.optim.Adam(gnet.parameters(), lr=0.0002, betas=(0.5, 0.999))\n",
    "doptimizer = torch.optim.Adam(dnet.parameters(), lr=0.0002, betas=(0.5, 0.999))"
   ],
   "metadata": {
    "collapsed": false,
    "ExecuteTime": {
     "end_time": "2023-12-23T07:40:42.930374200Z",
     "start_time": "2023-12-23T07:40:42.914373700Z"
    }
   },
   "id": "b79a2e36a56c7c6d"
  },
  {
   "cell_type": "markdown",
   "source": [
    "### 训练过程\n",
    "迭代指定的次数（epoch_num）。\n",
    "对每个批次的真实图像和生成的假图像计算损失。\n",
    "更新判别器和生成器的权重。\n",
    "每100个批次保存生成的图像。"
   ],
   "metadata": {
    "collapsed": false
   },
   "id": "dd99740c7230a6c6"
  },
  {
   "cell_type": "code",
   "execution_count": 24,
   "outputs": [
    {
     "name": "stdout",
     "output_type": "stream",
     "text": [
      "Epoch index: 0, 1 epoches in total.\n",
      "Batch index: 0, the batch size is 64.\n",
      "Discriminator loss is: 2.0131707191467285, generator loss is: 3.719346761703491 \n",
      " Discriminator tells real images real ability: 0.5422301292419434 \n",
      " Discriminator tells fake images real ability: 0.715784/0.027083\n",
      "Epoch index: 0, 1 epoches in total.\n",
      "Batch index: 100, the batch size is 64.\n",
      "Discriminator loss is: 0.1933995634317398, generator loss is: 2.685181140899658 \n",
      " Discriminator tells real images real ability: 0.8877425789833069 \n",
      " Discriminator tells fake images real ability: 0.0668366/0.0809524\n",
      "Epoch index: 0, 1 epoches in total.\n",
      "Batch index: 200, the batch size is 64.\n",
      "Discriminator loss is: 0.4867536127567291, generator loss is: 3.9829626083374023 \n",
      " Discriminator tells real images real ability: 0.8986188769340515 \n",
      " Discriminator tells fake images real ability: 0.281993/0.0269879\n",
      "Epoch index: 0, 1 epoches in total.\n",
      "Batch index: 300, the batch size is 64.\n",
      "Discriminator loss is: 0.3327685296535492, generator loss is: 3.483229637145996 \n",
      " Discriminator tells real images real ability: 0.8351635932922363 \n",
      " Discriminator tells fake images real ability: 0.123957/0.0398922\n",
      "Epoch index: 0, 1 epoches in total.\n",
      "Batch index: 400, the batch size is 64.\n",
      "Discriminator loss is: 1.2020573616027832, generator loss is: 4.728366851806641 \n",
      " Discriminator tells real images real ability: 0.7651938199996948 \n",
      " Discriminator tells fake images real ability: 0.562286/0.0130731\n",
      "Epoch index: 0, 1 epoches in total.\n",
      "Batch index: 500, the batch size is 64.\n",
      "Discriminator loss is: 0.6975193023681641, generator loss is: 3.815523624420166 \n",
      " Discriminator tells real images real ability: 0.8159804940223694 \n",
      " Discriminator tells fake images real ability: 0.357635/0.028143\n",
      "Epoch index: 0, 1 epoches in total.\n",
      "Batch index: 600, the batch size is 64.\n",
      "Discriminator loss is: 0.5914085507392883, generator loss is: 2.5982940196990967 \n",
      " Discriminator tells real images real ability: 0.7449980974197388 \n",
      " Discriminator tells fake images real ability: 0.224629/0.0939419\n",
      "Epoch index: 0, 1 epoches in total.\n",
      "Batch index: 700, the batch size is 64.\n",
      "Discriminator loss is: 0.6151887774467468, generator loss is: 2.5780060291290283 \n",
      " Discriminator tells real images real ability: 0.7782326936721802 \n",
      " Discriminator tells fake images real ability: 0.268182/0.100344\n"
     ]
    },
    {
     "name": "stderr",
     "output_type": "stream",
     "text": [
      "D:\\Anaconda3\\lib\\site-packages\\IPython\\core\\pylabtools.py:152: UserWarning: Glyph 25439 (\\N{CJK UNIFIED IDEOGRAPH-635F}) missing from current font.\n",
      "  fig.canvas.print_figure(bytes_io, **kw)\n",
      "D:\\Anaconda3\\lib\\site-packages\\IPython\\core\\pylabtools.py:152: UserWarning: Glyph 22833 (\\N{CJK UNIFIED IDEOGRAPH-5931}) missing from current font.\n",
      "  fig.canvas.print_figure(bytes_io, **kw)\n",
      "D:\\Anaconda3\\lib\\site-packages\\IPython\\core\\pylabtools.py:152: UserWarning: Glyph 35757 (\\N{CJK UNIFIED IDEOGRAPH-8BAD}) missing from current font.\n",
      "  fig.canvas.print_figure(bytes_io, **kw)\n",
      "D:\\Anaconda3\\lib\\site-packages\\IPython\\core\\pylabtools.py:152: UserWarning: Glyph 32451 (\\N{CJK UNIFIED IDEOGRAPH-7EC3}) missing from current font.\n",
      "  fig.canvas.print_figure(bytes_io, **kw)\n",
      "D:\\Anaconda3\\lib\\site-packages\\IPython\\core\\pylabtools.py:152: UserWarning: Glyph 36807 (\\N{CJK UNIFIED IDEOGRAPH-8FC7}) missing from current font.\n",
      "  fig.canvas.print_figure(bytes_io, **kw)\n",
      "D:\\Anaconda3\\lib\\site-packages\\IPython\\core\\pylabtools.py:152: UserWarning: Glyph 31243 (\\N{CJK UNIFIED IDEOGRAPH-7A0B}) missing from current font.\n",
      "  fig.canvas.print_figure(bytes_io, **kw)\n",
      "D:\\Anaconda3\\lib\\site-packages\\IPython\\core\\pylabtools.py:152: UserWarning: Glyph 20013 (\\N{CJK UNIFIED IDEOGRAPH-4E2D}) missing from current font.\n",
      "  fig.canvas.print_figure(bytes_io, **kw)\n",
      "D:\\Anaconda3\\lib\\site-packages\\IPython\\core\\pylabtools.py:152: UserWarning: Glyph 29983 (\\N{CJK UNIFIED IDEOGRAPH-751F}) missing from current font.\n",
      "  fig.canvas.print_figure(bytes_io, **kw)\n",
      "D:\\Anaconda3\\lib\\site-packages\\IPython\\core\\pylabtools.py:152: UserWarning: Glyph 25104 (\\N{CJK UNIFIED IDEOGRAPH-6210}) missing from current font.\n",
      "  fig.canvas.print_figure(bytes_io, **kw)\n",
      "D:\\Anaconda3\\lib\\site-packages\\IPython\\core\\pylabtools.py:152: UserWarning: Glyph 22120 (\\N{CJK UNIFIED IDEOGRAPH-5668}) missing from current font.\n",
      "  fig.canvas.print_figure(bytes_io, **kw)\n",
      "D:\\Anaconda3\\lib\\site-packages\\IPython\\core\\pylabtools.py:152: UserWarning: Glyph 21644 (\\N{CJK UNIFIED IDEOGRAPH-548C}) missing from current font.\n",
      "  fig.canvas.print_figure(bytes_io, **kw)\n",
      "D:\\Anaconda3\\lib\\site-packages\\IPython\\core\\pylabtools.py:152: UserWarning: Glyph 21028 (\\N{CJK UNIFIED IDEOGRAPH-5224}) missing from current font.\n",
      "  fig.canvas.print_figure(bytes_io, **kw)\n",
      "D:\\Anaconda3\\lib\\site-packages\\IPython\\core\\pylabtools.py:152: UserWarning: Glyph 21035 (\\N{CJK UNIFIED IDEOGRAPH-522B}) missing from current font.\n",
      "  fig.canvas.print_figure(bytes_io, **kw)\n",
      "D:\\Anaconda3\\lib\\site-packages\\IPython\\core\\pylabtools.py:152: UserWarning: Glyph 30340 (\\N{CJK UNIFIED IDEOGRAPH-7684}) missing from current font.\n",
      "  fig.canvas.print_figure(bytes_io, **kw)\n",
      "D:\\Anaconda3\\lib\\site-packages\\IPython\\core\\pylabtools.py:152: UserWarning: Glyph 36845 (\\N{CJK UNIFIED IDEOGRAPH-8FED}) missing from current font.\n",
      "  fig.canvas.print_figure(bytes_io, **kw)\n",
      "D:\\Anaconda3\\lib\\site-packages\\IPython\\core\\pylabtools.py:152: UserWarning: Glyph 20195 (\\N{CJK UNIFIED IDEOGRAPH-4EE3}) missing from current font.\n",
      "  fig.canvas.print_figure(bytes_io, **kw)\n",
      "D:\\Anaconda3\\lib\\site-packages\\IPython\\core\\pylabtools.py:152: UserWarning: Glyph 27425 (\\N{CJK UNIFIED IDEOGRAPH-6B21}) missing from current font.\n",
      "  fig.canvas.print_figure(bytes_io, **kw)\n",
      "D:\\Anaconda3\\lib\\site-packages\\IPython\\core\\pylabtools.py:152: UserWarning: Glyph 25968 (\\N{CJK UNIFIED IDEOGRAPH-6570}) missing from current font.\n",
      "  fig.canvas.print_figure(bytes_io, **kw)\n"
     ]
    },
    {
     "data": {
      "text/plain": "<Figure size 1000x500 with 1 Axes>",
      "image/png": "[encoded data removed]"
     },
     "metadata": {},
     "output_type": "display_data"
    }
   ],
   "source": [
    "batch_size = 64\n",
    "fixed_noises = torch.randn(batch_size, latent_size, 1, 1)\n",
    "\n",
    "# 初始化用于跟踪损失的列表\n",
    "d_losses = []\n",
    "g_losses = []\n",
    "\n",
    "epoch_num = 1\n",
    "for epoch in range(epoch_num):\n",
    "    for batch_idx, data in enumerate(dataloader):\n",
    "        real_images, _ = data\n",
    "        batch_size = real_images.size(0)\n",
    "        \n",
    "        # 首先，用真实图像训练判别器\n",
    "        labels = torch.ones(batch_size)\n",
    "        preds = dnet(real_images)\n",
    "        outputs = preds.reshape(-1)\n",
    "        dloss_real = criterion(outputs, labels)\n",
    "        dmean_real = outputs.sigmoid().mean()\n",
    "        \n",
    "        # 接着，用假图像训练判别器\n",
    "        noises = torch.randn(batch_size, latent_size, 1, 1)\n",
    "        fake_images = gnet(noises)\n",
    "        labels = torch.zeros(batch_size)\n",
    "        fake = fake_images.detach()\n",
    "\n",
    "        preds = dnet(fake)\n",
    "        outputs = preds.view(-1)\n",
    "        dloss_fake = criterion(outputs, labels)\n",
    "        dmean_fake = outputs.sigmoid().mean()\n",
    "        \n",
    "        # 更新判别器\n",
    "        dloss = dloss_real + dloss_fake\n",
    "        dnet.zero_grad()\n",
    "        dloss.backward()\n",
    "        doptimizer.step()\n",
    "\n",
    "        # 训练生成器\n",
    "        labels = torch.ones(batch_size)\n",
    "        preds = dnet(fake_images)\n",
    "        outputs = preds.view(-1)\n",
    "        gloss = criterion(outputs, labels)\n",
    "        gmean_fake = outputs.sigmoid().mean()\n",
    "        gnet.zero_grad()\n",
    "        gloss.backward()\n",
    "        goptimizer.step()\n",
    "        \n",
    "        # 记录损失\n",
    "        d_losses.append(dloss.item())\n",
    "        g_losses.append(gloss.item())\n",
    "        \n",
    "        if batch_idx % 100 == 0:\n",
    "            fake = gnet(fixed_noises)\n",
    "            save_image(fake, f'./GAN_saved02/images_epoch{epoch:02d}_batch{batch_idx:03d}.png')\n",
    "\n",
    "            print(f'Epoch index: {epoch}, {epoch_num} epoches in total.')\n",
    "            print(f'Batch index: {batch_idx}, the batch size is {batch_size}.')\n",
    "            print(f'Discriminator loss is: {dloss}, generator loss is: {gloss}', '\\n',\n",
    "                  f'Discriminator tells real images real ability: {dmean_real}', '\\n',\n",
    "                  f'Discriminator tells fake images real ability: {dmean_fake:g}/{gmean_fake:g}')\n",
    "# 绘制损失曲线\n",
    "plt.figure(figsize=(10,5))\n",
    "plt.title(\"训练过程中生成器和判别器的损失\")\n",
    "plt.plot(g_losses, label=\"生成器\")\n",
    "plt.plot(d_losses, label=\"判别器\")\n",
    "plt.xlabel(\"迭代次数\")\n",
    "plt.ylabel(\"损失\")\n",
    "plt.legend()\n",
    "plt.show()"
   ],
   "metadata": {
    "collapsed": false,
    "ExecuteTime": {
     "end_time": "2023-12-23T07:43:01.996721600Z",
     "start_time": "2023-12-23T07:40:42.937372700Z"
    }
   },
   "id": "67fc87ce726f57b1"
  },
  {
   "cell_type": "markdown",
   "source": [
    "### 保存模型\n",
    "将训练好的生成器和判别器模型保存到文件。"
   ],
   "metadata": {
    "collapsed": false
   },
   "id": "ec47d3984772a87e"
  },
  {
   "cell_type": "code",
   "execution_count": 25,
   "outputs": [],
   "source": [
    "gnet_save_path = 'gnet.pt'\n",
    "torch.save(gnet, gnet_save_path)\n",
    "\n",
    "dnet_save_path = 'dnet.pt'\n",
    "torch.save(dnet, dnet_save_path)"
   ],
   "metadata": {
    "collapsed": false,
    "ExecuteTime": {
     "end_time": "2023-12-23T07:43:02.204339Z",
     "start_time": "2023-12-23T07:43:01.989723100Z"
    }
   },
   "id": "eea1d37cf85cd47c"
  },
  {
   "cell_type": "markdown",
   "source": [
    "### 测试模型\n",
    "如果已经有训练过的模型，可以直接加载并测试"
   ],
   "metadata": {
    "collapsed": false
   },
   "id": "5664a2158a6db0a0"
  },
  {
   "cell_type": "code",
   "execution_count": 28,
   "outputs": [
    {
     "data": {
      "text/plain": "Sequential(\n  (0): Conv2d(3, 64, kernel_size=(4, 4), stride=(2, 2), padding=(1, 1))\n  (1): LeakyReLU(negative_slope=0.2)\n  (2): Conv2d(64, 128, kernel_size=(4, 4), stride=(2, 2), padding=(1, 1), bias=False)\n  (3): BatchNorm2d(128, eps=1e-05, momentum=0.1, affine=True, track_running_stats=True)\n  (4): LeakyReLU(negative_slope=0.2)\n  (5): Conv2d(128, 256, kernel_size=(4, 4), stride=(2, 2), padding=(1, 1), bias=False)\n  (6): BatchNorm2d(256, eps=1e-05, momentum=0.1, affine=True, track_running_stats=True)\n  (7): LeakyReLU(negative_slope=0.2)\n  (8): Conv2d(256, 1, kernel_size=(4, 4), stride=(1, 1))\n)"
     },
     "execution_count": 28,
     "metadata": {},
     "output_type": "execute_result"
    }
   ],
   "source": [
    "gnet = torch.load(gnet_save_path)\n",
    "gnet.eval()\n",
    "\n",
    "dnet = torch.load(dnet_save_path)\n",
    "dnet.eval()"
   ],
   "metadata": {
    "collapsed": false,
    "ExecuteTime": {
     "end_time": "2023-12-23T07:43:47.074469500Z",
     "start_time": "2023-12-23T07:43:47.047357700Z"
    }
   },
   "id": "5e31d0a6c4069442"
  },
  {
   "cell_type": "markdown",
   "source": [
    "### 生成图像\n",
    "在训练后生成新的图像并保存。"
   ],
   "metadata": {
    "collapsed": false
   },
   "id": "bbf76eec905a9056"
  },
  {
   "cell_type": "code",
   "execution_count": 29,
   "outputs": [],
   "source": [
    "for i in range(100):\n",
    "    noises = torch.randn(batch_size, latent_size, 1, 1)\n",
    "    fake_images = gnet(noises)\n",
    "    save_image(fake, f'./G_Data/{i}.png')"
   ],
   "metadata": {
    "collapsed": false,
    "ExecuteTime": {
     "end_time": "2023-12-23T07:43:51.047953700Z",
     "start_time": "2023-12-23T07:43:49.907389200Z"
    }
   },
   "id": "c27481d9ab4cbf43"
  },
  {
   "cell_type": "markdown",
   "source": [],
   "metadata": {
    "collapsed": false
   },
   "id": "5229f84e0cfd3c16"
  }
 ],
 "metadata": {
  "kernelspec": {
   "display_name": "Python 3",
   "language": "python",
   "name": "python3"
  },
  "language_info": {
   "codemirror_mode": {
    "name": "ipython",
    "version": 2
   },
   "file_extension": ".py",
   "mimetype": "text/x-python",
   "name": "python",
   "nbconvert_exporter": "python",
   "pygments_lexer": "ipython2",
   "version": "2.7.6"
  }
 },
 "nbformat": 4,
 "nbformat_minor": 5
}
