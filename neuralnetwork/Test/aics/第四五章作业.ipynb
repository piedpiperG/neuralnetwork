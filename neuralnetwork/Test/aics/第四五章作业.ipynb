{
 "cells": [
  {
   "cell_type": "markdown",
   "source": [
    "# 第四章作业"
   ],
   "metadata": {
    "collapsed": false
   },
   "id": "20f023c54579f604"
  },
  {
   "cell_type": "markdown",
   "source": [
    "### 1.使用tensor初始化一个1x3的矩阵M和2x1的矩阵N，然后对两个矩阵做减法（用三种不同的方式，提示：直接相减、torch.nn、inplace原地操作），最后分析三种方式的不同。"
   ],
   "metadata": {
    "collapsed": false
   },
   "id": "2d32e4b9265e0c13"
  },
  {
   "cell_type": "markdown",
   "source": [
    "定义两个矩阵mat1,mat2·"
   ],
   "metadata": {
    "collapsed": false
   },
   "id": "e049719babcd0c3"
  },
  {
   "cell_type": "code",
   "execution_count": 1,
   "outputs": [
    {
     "name": "stdout",
     "output_type": "stream",
     "text": [
      "mat1:tensor([[0.1268, 0.3749, 0.8659]]), mat2:tensor([[0.7299],\n",
      "        [0.3648]])\n"
     ]
    }
   ],
   "source": [
    "import torch\n",
    "import torch.nn as nn\n",
    "\n",
    "mat1 = torch.rand(1, 3)\n",
    "mat2 = torch.rand(2, 1)\n",
    "print(f'mat1:{mat1}, mat2:{mat2}')"
   ],
   "metadata": {
    "collapsed": false,
    "ExecuteTime": {
     "end_time": "2023-12-15T08:40:14.140785500Z",
     "start_time": "2023-12-15T08:40:11.223812Z"
    }
   },
   "id": "3bbff41bb5b159c8"
  },
  {
   "cell_type": "markdown",
   "source": [
    "进行直接相减操作"
   ],
   "metadata": {
    "collapsed": false
   },
   "id": "dae5eba84f114242"
  },
  {
   "cell_type": "code",
   "execution_count": 2,
   "outputs": [
    {
     "name": "stdout",
     "output_type": "stream",
     "text": [
      "----------------直接相减----------------\n",
      "mat1-mat2=tensor([[-0.6031, -0.3551,  0.1360],\n",
      "        [-0.2380,  0.0101,  0.5011]])\n"
     ]
    }
   ],
   "source": [
    "print('----------------直接相减----------------')\n",
    "print(f'mat1-mat2={mat1 - mat2}')"
   ],
   "metadata": {
    "collapsed": false,
    "ExecuteTime": {
     "end_time": "2023-12-15T08:41:34.078794400Z",
     "start_time": "2023-12-15T08:41:34.060534200Z"
    }
   },
   "id": "f37c12c43fdb0da4"
  },
  {
   "cell_type": "markdown",
   "source": [
    "进行原地操作inplace"
   ],
   "metadata": {
    "collapsed": false
   },
   "id": "33c927d7d08324fe"
  },
  {
   "cell_type": "code",
   "execution_count": 3,
   "outputs": [
    {
     "name": "stdout",
     "output_type": "stream",
     "text": [
      "----------------原地操作inplace----------------\n",
      "mat1-mat2=tensor([[-0.6031, -0.3551,  0.1360],\n",
      "        [-0.2380,  0.0101,  0.5011]])\n"
     ]
    }
   ],
   "source": [
    "print('----------------原地操作inplace----------------')\n",
    "# 调整张量形状以使它们兼容\n",
    "# 扩展mat1和mat2，使它们可以广播到相同形状\n",
    "mat1_expanded = mat1.expand(2, 3)\n",
    "mat2_expanded = mat2.expand(2, 3)\n",
    "# 尝试进行原地操作，但由于原地操作不能改变形状，使用扩展后的张量\n",
    "mat1_inplace_adjusted = mat1_expanded.clone()\n",
    "mat1_inplace_adjusted.sub_(mat2_expanded)\n",
    "print(f'mat1-mat2={mat1_inplace_adjusted}')"
   ],
   "metadata": {
    "collapsed": false,
    "ExecuteTime": {
     "end_time": "2023-12-15T08:41:36.501766800Z",
     "start_time": "2023-12-15T08:41:36.464927900Z"
    }
   },
   "id": "da447a07cf03dc03"
  },
  {
   "cell_type": "markdown",
   "source": [
    "进行torch.nn操作"
   ],
   "metadata": {
    "collapsed": false
   },
   "id": "ed9f214ee9a40526"
  },
  {
   "cell_type": "code",
   "execution_count": 4,
   "outputs": [
    {
     "name": "stdout",
     "output_type": "stream",
     "text": [
      "----------------使用torch.nn----------------\n",
      "mat1 - mat2 = tensor([[-0.6031, -0.3551,  0.1360],\n",
      "        [-0.2380,  0.0101,  0.5011]], grad_fn=<CatBackward0>)\n"
     ]
    }
   ],
   "source": [
    "print('----------------使用torch.nn----------------')\n",
    "# 创建一个线性层，权重为单位矩阵，偏置设置为mat2[0]\n",
    "linear = nn.Linear(3, 3, bias=True)\n",
    "linear.weight.data = torch.eye(3)\n",
    "linear.bias.data = -mat2[0].expand(1, 3).contiguous()\n",
    "# 创建一个线性层，权重为单位矩阵，偏置设置为mat2[1]\n",
    "linear2 = nn.Linear(3, 3, bias=True)\n",
    "linear2.weight.data = torch.eye(3)\n",
    "linear2.bias.data = -mat2[1].expand(1, 3).contiguous()\n",
    "# 应用线性层\n",
    "mat1_expanded = mat1.expand(2, 3)  # 扩展 mat1 以匹配 mat2 的形状\n",
    "result_1 = linear(mat1_expanded[0].view(1, -1))\n",
    "result_2 = linear2(mat1_expanded[1].view(1, -1))\n",
    "result = torch.cat((result_1, result_2), dim=0)\n",
    "print(f'mat1 - mat2 = {result}')"
   ],
   "metadata": {
    "collapsed": false,
    "ExecuteTime": {
     "end_time": "2023-12-15T08:41:38.631814900Z",
     "start_time": "2023-12-15T08:41:38.619392800Z"
    }
   },
   "id": "9c82447c126f4e1b"
  },
  {
   "cell_type": "markdown",
   "source": [
    "### 4.请实现两个数的加法，即计算 A+B并输出，其中 A 是常量，B是占位符，数据类型自定。"
   ],
   "metadata": {
    "collapsed": false
   },
   "id": "615142fd869ce928"
  },
  {
   "cell_type": "code",
   "execution_count": 14,
   "outputs": [
    {
     "name": "stdout",
     "output_type": "stream",
     "text": [
      "tensor(5)\n",
      "tensor(0)\n"
     ]
    }
   ],
   "source": [
    "import torch\n",
    "\n",
    "# 定义常量 A\n",
    "A = torch.tensor(5)\n",
    "\n",
    "# 定义占位符 B\n",
    "B = torch.tensor(0)  # 初始化为 0，稍后赋值\n",
    "\n",
    "print(A)\n",
    "print(B)"
   ],
   "metadata": {
    "collapsed": false,
    "ExecuteTime": {
     "end_time": "2023-12-15T10:17:52.817687700Z",
     "start_time": "2023-12-15T10:17:52.797689900Z"
    }
   },
   "id": "87b2c2334d3b7264"
  },
  {
   "cell_type": "code",
   "execution_count": 15,
   "outputs": [
    {
     "name": "stdout",
     "output_type": "stream",
     "text": [
      "结果: 8\n"
     ]
    }
   ],
   "source": [
    "# 定义一个函数来执行加法操作\n",
    "def add_tensors(tensor_A, tensor_B):\n",
    "    return tensor_A + tensor_B\n",
    "\n",
    "# 假设我们现在有一个值为 3 的 B\n",
    "B = torch.tensor(3)\n",
    "\n",
    "# 执行加法操作并打印结果\n",
    "result = add_tensors(A, B)\n",
    "print(\"结果:\", result.item())"
   ],
   "metadata": {
    "collapsed": false,
    "ExecuteTime": {
     "end_time": "2023-12-15T10:18:00.045366800Z",
     "start_time": "2023-12-15T10:18:00.027277Z"
    }
   },
   "id": "118bc5e81d77a390"
  },
  {
   "cell_type": "markdown",
   "source": [
    "### 5.请实现一个矩阵乘法，数据类型和规模自定，并分别使用 CPU和GPU执行"
   ],
   "metadata": {
    "collapsed": false
   },
   "id": "3c01d088c29f83bb"
  },
  {
   "cell_type": "code",
   "execution_count": 8,
   "outputs": [
    {
     "name": "stdout",
     "output_type": "stream",
     "text": [
      "cpu_time is : 0.01898336410522461\n",
      "gpu_time is : 0.006000518798828125\n"
     ]
    }
   ],
   "source": [
    "import torch\n",
    "import time\n",
    "import os\n",
    "os.environ[\"CUDA_VISIBLE_DEVICES\"] = \"0\"\n",
    "\n",
    "# 定义两个较大的矩阵以突出性能差异\n",
    "matrix1 = torch.randn(1000, 1000)\n",
    "matrix2 = torch.randn(1000, 1000)\n",
    "\n",
    "# CPU 上的矩阵乘法\n",
    "start_time_cpu = time.time()\n",
    "result_cpu = torch.matmul(matrix1, matrix2)\n",
    "end_time_cpu = time.time()\n",
    "cpu_time = end_time_cpu - start_time_cpu\n",
    "\n",
    "# 检查是否有可用的 GPU\n",
    "if torch.cuda.is_available():\n",
    "    # 将矩阵移到 GPU\n",
    "    matrix1_gpu = matrix1.to('cuda')\n",
    "    matrix2_gpu = matrix2.to('cuda')\n",
    "\n",
    "    # GPU 上的矩阵乘法\n",
    "    torch.cuda.synchronize()  # 确保所有 CUDA 核心同步\n",
    "    start_time_gpu = time.time()\n",
    "    result_gpu = torch.matmul(matrix1_gpu, matrix2_gpu)\n",
    "    torch.cuda.synchronize()  # 等待 GPU 计算完成\n",
    "    end_time_gpu = time.time()\n",
    "    gpu_time = end_time_gpu - start_time_gpu\n",
    "else:\n",
    "    gpu_time = \"GPU 不可用\"\n",
    "\n",
    "print(f'cpu_time is : {cpu_time}')\n",
    "print(f'gpu_time is : {gpu_time}')"
   ],
   "metadata": {
    "collapsed": false,
    "ExecuteTime": {
     "end_time": "2023-12-21T12:10:49.898993800Z",
     "start_time": "2023-12-21T12:10:49.823468600Z"
    }
   },
   "id": "6535d104fe91a757"
  },
  {
   "cell_type": "markdown",
   "source": [
    "### 6. 请 调 研 了 解 常 用 的 图 像 数 据 预 处 理 和 数 据 增 强 方 法 。 实现一个函数 ， 从ImageNet2012_val数据集中选择一张图片文件并读入数据，调整为 (256，256，3)大小的图片，然后居中裁剪为(224，224，3) 大小的图片;再实现一个函数，读入数据后居中裁剪为(0.875* width，0.875 * height，3) 大小的图片，再调整为 (224，224，3) 大小的图片。"
   ],
   "metadata": {
    "collapsed": false
   },
   "id": "b65f23eadbaaa708"
  },
  {
   "cell_type": "code",
   "execution_count": 2,
   "outputs": [
    {
     "name": "stdout",
     "output_type": "stream",
     "text": [
      "(224, 224)\n"
     ]
    }
   ],
   "source": [
    "from PIL import Image\n",
    "\n",
    "def process_image_1(image_path):\n",
    "    \"\"\" 调整为 (256, 256, 3) 然后裁剪为 (224, 224, 3) \"\"\"\n",
    "    with Image.open(image_path) as img:\n",
    "        # 调整大小为 (256, 256)\n",
    "        img = img.resize((256, 256))\n",
    "        # 居中裁剪为 (224, 224)\n",
    "        left = (256 - 224) / 2\n",
    "        top = (256 - 224) / 2\n",
    "        right = (256 + 224) / 2\n",
    "        bottom = (256 + 224) / 2\n",
    "        img_cropped = img.crop((left, top, right, bottom))\n",
    "        return img_cropped\n",
    "\n",
    "def process_image_2(image_path):\n",
    "    \"\"\" 居中裁剪为 (0.875 * width, 0.875 * height) 然后调整为 (224, 224, 3) \"\"\"\n",
    "    with Image.open(image_path) as img:\n",
    "        width, height = img.size\n",
    "        new_width = int(width * 0.875)\n",
    "        new_height = int(height * 0.875)\n",
    "        # 居中裁剪\n",
    "        left = (width - new_width) / 2\n",
    "        top = (height - new_height) / 2\n",
    "        right = (width + new_width) / 2\n",
    "        bottom = (height + new_height) / 2\n",
    "        img_cropped = img.crop((left, top, right, bottom))\n",
    "        # 调整大小为 (224, 224)\n",
    "        img_resized = img_cropped.resize((224, 224))\n",
    "        return img_resized\n",
    "\n",
    "# 从本地文件 \"sample.jpg\" 中读取并处理图片\n",
    "image_path = \"./sample.jpg\"\n",
    "\n",
    "# 处理图片\n",
    "processed_image_1 = process_image_1(image_path)\n",
    "processed_image_2 = process_image_2(image_path)\n",
    "\n",
    "# 显示处理后的图片\n",
    "processed_image_1.show()\n",
    "processed_image_1.save('out1.jpg')\n",
    "processed_image_2.show()\n",
    "processed_image_2.save('out2.jpg')"
   ],
   "metadata": {
    "collapsed": false,
    "ExecuteTime": {
     "end_time": "2023-12-31T06:20:24.623617100Z",
     "start_time": "2023-12-31T06:20:10.562478200Z"
    }
   },
   "id": "e9c6380b0ad4e325"
  }
 ],
 "metadata": {
  "kernelspec": {
   "display_name": "Python 3",
   "language": "python",
   "name": "python3"
  },
  "language_info": {
   "codemirror_mode": {
    "name": "ipython",
    "version": 2
   },
   "file_extension": ".py",
   "mimetype": "text/x-python",
   "name": "python",
   "nbconvert_exporter": "python",
   "pygments_lexer": "ipython2",
   "version": "2.7.6"
  }
 },
 "nbformat": 4,
 "nbformat_minor": 5
}
