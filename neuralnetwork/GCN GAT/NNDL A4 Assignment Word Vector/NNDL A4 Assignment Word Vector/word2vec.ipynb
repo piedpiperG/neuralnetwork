{
 "cells": [
  {
   "cell_type": "code",
   "execution_count": 1,
   "metadata": {},
   "outputs": [],
   "source": [
    "import re\n",
    "import os\n",
    "from gensim.models import Word2Vec\n",
    "import nltk\n",
    "from nltk.corpus import stopwords\n",
    "from nltk.stem import WordNetLemmatizer"
   ]
  },
  {
   "cell_type": "code",
   "execution_count": 3,
   "metadata": {},
   "outputs": [
    {
     "name": "stderr",
     "output_type": "stream",
     "text": [
      "[nltk_data] Downloading package stopwords to\n",
      "[nltk_data]     /Users/yusaemeow/nltk_data...\n",
      "[nltk_data]   Package stopwords is already up-to-date!\n",
      "[nltk_data] Downloading package wordnet to\n",
      "[nltk_data]     /Users/yusaemeow/nltk_data...\n",
      "[nltk_data]   Package wordnet is already up-to-date!\n",
      "[nltk_data] Downloading package omw-1.4 to\n",
      "[nltk_data]     /Users/yusaemeow/nltk_data...\n",
      "[nltk_data]   Package omw-1.4 is already up-to-date!\n"
     ]
    }
   ],
   "source": [
    "# NLTK资源下载\n",
    "nltk.download('stopwords')\n",
    "nltk.download('wordnet')\n",
    "nltk.download('omw-1.4')\n",
    "\n",
    "def clean_text(text):\n",
    "    text = text.lower()\n",
    "    text = re.sub(r'\\b\\w{1,2}\\b', '', text)  # 去除短词\n",
    "    text = re.sub(r'[^a-z\\s]', '', text)  # 去除非字母字符\n",
    "    lemmatizer = WordNetLemmatizer()\n",
    "    words = text.split()\n",
    "    words = [lemmatizer.lemmatize(word) for word in words if word not in stopwords.words('english')]\n",
    "    return ' '.join(words)\n",
    "def load_and_clean_dataset(file_path):\n",
    "    with open(file_path, 'r', encoding='latin1') as file:\n",
    "        data = file.readlines()\n",
    "    return [clean_text(line.strip()) for line in data]\n",
    "\n",
    "# 数据集\n",
    "datasets = ['20NG.txt', 'R8.txt', 'R52.txt', 'Ohsumed.txt', 'MR.txt']\n",
    "dataset_paths = [os.path.join('corpus', dataset) for dataset in datasets]\n",
    "\n",
    "# 可以在corpus/* 路径下添加数据集文件\n",
    "# 本代码使用的数据集文件来自于作业描述\n",
    "# https://github.com/yao8839836/text_gcn/tree/master/data\n",
    "cleaned_datasets = {dataset: load_and_clean_dataset(path) for dataset, path in zip(datasets, dataset_paths)}\n"
   ]
  },
  {
   "cell_type": "code",
   "execution_count": 4,
   "metadata": {},
   "outputs": [],
   "source": [
    "# 下面word2vec的参数可自行调节\n",
    "def train_word2vec(texts, vector_size=300, window=5, min_count=5):\n",
    "    tokenized_texts = [text.split() for text in texts]\n",
    "    model = Word2Vec(sentences=tokenized_texts, vector_size=vector_size, window=window, min_count=min_count, workers=4)\n",
    "    return model\n",
    "\n",
    "# 分别为每个数据集训练word2vec\n",
    "models = {dataset: train_word2vec(texts) for dataset, texts in cleaned_datasets.items()}\n"
   ]
  },
  {
   "cell_type": "code",
   "execution_count": 5,
   "metadata": {},
   "outputs": [],
   "source": [
    "def save_word_vectors(model, filename):\n",
    "    with open(filename, 'w', encoding='utf-8') as f:\n",
    "        for word in model.wv.index_to_key:\n",
    "            vector = model.wv[word]\n",
    "            vector_str = ' '.join([str(x) for x in vector])\n",
    "            f.write(f'{word} {vector_str}\\n')\n",
    "\n",
    "# 保存词向量\n",
    "for dataset, model in models.items():\n",
    "    save_word_vectors(model, f'word_vectors_{dataset}')\n"
   ]
  }
 ],
 "metadata": {
  "kernelspec": {
   "display_name": "data",
   "language": "python",
   "name": "python3"
  },
  "language_info": {
   "codemirror_mode": {
    "name": "ipython",
    "version": 3
   },
   "file_extension": ".py",
   "mimetype": "text/x-python",
   "name": "python",
   "nbconvert_exporter": "python",
   "pygments_lexer": "ipython3",
   "version": "3.8.16"
  }
 },
 "nbformat": 4,
 "nbformat_minor": 2
}
