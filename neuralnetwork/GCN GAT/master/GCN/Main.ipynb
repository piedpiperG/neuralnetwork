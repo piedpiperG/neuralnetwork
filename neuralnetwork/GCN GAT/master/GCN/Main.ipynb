{
 "cells": [
  {
   "cell_type": "markdown",
   "id": "2f9a2c11",
   "metadata": {},
   "source": [
    "# A4：图卷积网络"
   ]
  },
  {
   "cell_type": "markdown",
   "source": [
    "## 导入所需的库"
   ],
   "metadata": {
    "collapsed": false
   },
   "id": "f2c38a2e"
  },
  {
   "cell_type": "markdown",
   "id": "09791790",
   "metadata": {},
   "source": [
    "## 数据集导入并划分训练/验证/测试集"
   ]
  },
  {
   "cell_type": "markdown",
   "id": "505740ec",
   "metadata": {},
   "source": [
    "### 加载数据集"
   ]
  },
  {
   "cell_type": "code",
   "execution_count": 1,
   "outputs": [
    {
     "name": "stderr",
     "output_type": "stream",
     "text": [
      "D:\\Anaconda3\\lib\\site-packages\\torch_geometric\\typing.py:63: UserWarning: An issue occurred while importing 'torch-scatter'. Disabling its usage. Stacktrace: [WinError 127] 找不到指定的程序。\n",
      "  warnings.warn(f\"An issue occurred while importing 'torch-scatter'. \"\n",
      "D:\\Anaconda3\\lib\\site-packages\\h5py\\__init__.py:36: UserWarning: h5py is running against HDF5 1.12.2 when it was built against 1.12.1, this may cause problems\n",
      "  _warn((\"h5py is running against HDF5 {0} when it was built against {1}, \"\n"
     ]
    },
    {
     "name": "stdout",
     "output_type": "stream",
     "text": [
      "WARNING:tensorflow:From D:\\Anaconda3\\lib\\site-packages\\keras\\src\\losses.py:2976: The name tf.losses.sparse_softmax_cross_entropy is deprecated. Please use tf.compat.v1.losses.sparse_softmax_cross_entropy instead.\n"
     ]
    }
   ],
   "source": [
    "import pickle\n",
    "import re\n",
    "import numpy as np\n",
    "from matplotlib import pyplot as plt\n",
    "from nltk.corpus import stopwords\n",
    "from nltk.stem import WordNetLemmatizer\n",
    "from collections import defaultdict\n",
    "from scipy.sparse import csr_matrix\n",
    "import torch\n",
    "from torch_geometric.data import Data\n",
    "import torch.optim as optim\n",
    "from sklearn.feature_extraction.text import TfidfVectorizer\n",
    "from sklearn.metrics.pairwise import cosine_similarity\n",
    "from keras.preprocessing.text import Tokenizer\n",
    "from keras.preprocessing.sequence import pad_sequences\n",
    "import os\n",
    "import torch\n",
    "import torch.nn.functional as F\n",
    "from torch_geometric.nn import GCNConv\n",
    "from torch_geometric.nn import GATConv\n",
    "import torch.nn as nn\n",
    "from sklearn.metrics import precision_score, recall_score, f1_score"
   ],
   "metadata": {
    "collapsed": false,
    "ExecuteTime": {
     "end_time": "2023-11-23T13:08:26.094728Z",
     "start_time": "2023-11-23T13:08:12.523274400Z"
    }
   },
   "id": "a0af92b5"
  },
  {
   "cell_type": "code",
   "execution_count": 2,
   "id": "1dc50884",
   "metadata": {
    "ExecuteTime": {
     "end_time": "2023-11-23T13:08:32.794908700Z",
     "start_time": "2023-11-23T13:08:32.738920400Z"
    }
   },
   "outputs": [],
   "source": [
    "def clean_text(text):\n",
    "    text = text.lower()\n",
    "    text = re.sub(r'\\b\\w{1,2}\\b', '', text)  # 去除短词\n",
    "    text = re.sub(r'[^a-z\\s]', '', text)  # 去除非字母字符\n",
    "    lemmatizer = WordNetLemmatizer()\n",
    "    words = text.split()\n",
    "    words = [lemmatizer.lemmatize(word) for word in words if word not in stopwords.words('english')]\n",
    "    return ' '.join(words)\n",
    "\n",
    "\n",
    "# 加载数据集\n",
    "def load_dataset(file_path):\n",
    "    with open(file_path, 'r', encoding='latin1') as file:\n",
    "        data = file.readlines()\n",
    "    return [clean_text(line.strip().split('\\t')[1]) for line in data]\n",
    "\n",
    "\n",
    "def load_labels(file_path):\n",
    "    # 读取所有标签\n",
    "    with open(file_path, 'r', encoding='utf-8') as file:\n",
    "        labels = [line.strip().split()[1] for line in file]\n",
    "\n",
    "        # 创建一个从标签名到整数的映射\n",
    "    unique_labels = sorted(set(labels))\n",
    "    label_map = {label: i for i, label in enumerate(unique_labels)}\n",
    "\n",
    "    # 将标签转换为对应的整数\n",
    "    labels = [label_map[label] for label in labels]\n",
    "    return labels, label_map\n",
    "\n",
    "\n",
    "# 加载文档数据\n",
    "# texts = load_dataset('data/r52.txt')\n",
    "FILE_NAME = 'r52'  # 可以选择r8或r52 \n",
    "CLEANED_TEXTS_FILE = f'data/{FILE_NAME}-clean.pkl'  # 定义保存清理过的文本数据的文件名\n",
    "# 加载或保存清理后的文本数据\n",
    "if os.path.exists(CLEANED_TEXTS_FILE):\n",
    "    with open(CLEANED_TEXTS_FILE, 'rb') as f:\n",
    "        texts = pickle.load(f)\n",
    "else:\n",
    "    # 加载文档数据\n",
    "    texts = load_dataset(f'data/{FILE_NAME}.txt')\n",
    "    # 进行文本清洗\n",
    "    texts = [clean_text(text) for text in texts]\n",
    "    # 保存清理过的文本数据到文件\n",
    "    with open(CLEANED_TEXTS_FILE, 'wb') as f:\n",
    "        pickle.dump(texts, f)\n",
    "\n",
    "\n"
   ]
  },
  {
   "cell_type": "markdown",
   "id": "ef80cbd8",
   "metadata": {},
   "source": [
    "### 划分数据集"
   ]
  },
  {
   "cell_type": "code",
   "execution_count": 3,
   "id": "9409ffe1",
   "metadata": {
    "ExecuteTime": {
     "end_time": "2023-11-23T13:08:57.887781100Z",
     "start_time": "2023-11-23T13:08:57.832971200Z"
    }
   },
   "outputs": [],
   "source": [
    "# 假设 N 是文档的总数\n",
    "N = len(texts)\n",
    "# 生成随机索引来划分训练、验证和测试集\n",
    "indices = torch.randperm(N)\n",
    "# 计算训练、验证和测试集的大小\n",
    "train_size = int(0.7 * N)\n",
    "val_size = int(0.15 * N)\n",
    "# 创建掩码\n",
    "train_mask = torch.zeros(N, dtype=torch.bool)\n",
    "val_mask = torch.zeros(N, dtype=torch.bool)\n",
    "test_mask = torch.zeros(N, dtype=torch.bool)\n",
    "# 分配掩码\n",
    "train_mask[indices[:train_size]] = True\n",
    "val_mask[indices[train_size:train_size + val_size]] = True\n",
    "test_mask[indices[train_size + val_size:]] = True"
   ]
  },
  {
   "cell_type": "markdown",
   "id": "36e1a47a",
   "metadata": {},
   "source": [
    "## GCN and GAT 实现"
   ]
  },
  {
   "cell_type": "markdown",
   "id": "7bc4baf3",
   "metadata": {},
   "source": [
    "### 图的构建（参数初始化）"
   ]
  },
  {
   "cell_type": "code",
   "execution_count": 4,
   "id": "8576edd0",
   "metadata": {
    "ExecuteTime": {
     "end_time": "2023-11-23T13:09:07.327574500Z",
     "start_time": "2023-11-23T13:09:05.224178900Z"
    }
   },
   "outputs": [],
   "source": [
    "# 构建特征矩阵\n",
    "def build_feature_matrix(texts):\n",
    "    vectorizer = TfidfVectorizer(max_features=1000)  # 取最重要的1000个特征\n",
    "    X = vectorizer.fit_transform(texts)\n",
    "    return X.toarray()\n",
    "\n",
    "\n",
    "# 构建邻接矩阵\n",
    "def build_adjacency_matrix2(feature_matrix):\n",
    "    cosine_sim = cosine_similarity(feature_matrix)\n",
    "    adjacency_matrix = (cosine_sim > 0.5).astype(int)  # 举例：相似度大于0.5则认为有连接\n",
    "    np.fill_diagonal(adjacency_matrix, 0)  # 对角线元素设为0，避免自环\n",
    "    return csr_matrix(adjacency_matrix)  # 使用稀疏矩阵表示\n",
    "\n",
    "\n",
    "# GCN,GAT构建\n",
    "# 构建特征矩阵\n",
    "feature_matrix = build_feature_matrix(texts)\n",
    "# 构建邻接矩阵\n",
    "adjacency_matrix = build_adjacency_matrix2(feature_matrix)\n",
    "# 转换邻接矩阵为 COO 格式的边索引\n",
    "edge_index = torch.tensor(np.array(adjacency_matrix.nonzero()), dtype=torch.long)\n",
    "# 加载标签并转换为 Tensor\n",
    "labels, label_map = load_labels(f'data/{FILE_NAME}-label.txt')\n",
    "labels = torch.tensor(labels, dtype=torch.long)\n",
    "# 构建数据对象\n",
    "data = Data(x=torch.tensor(feature_matrix, dtype=torch.float), edge_index=edge_index, y=labels)\n",
    "# 将掩码添加到数据对象中\n",
    "data.train_mask = train_mask\n",
    "data.val_mask = val_mask\n",
    "data.test_mask = test_mask\n",
    "# 初始化模型\n",
    "num_features = feature_matrix.shape[1]  # 特征维度\n",
    "num_classes = len(set(labels.numpy()))  # 类别数"
   ]
  },
  {
   "cell_type": "markdown",
   "id": "b53112e0",
   "metadata": {},
   "source": [
    "### GCN结构"
   ]
  },
  {
   "cell_type": "code",
   "execution_count": 5,
   "id": "e8607570",
   "metadata": {
    "ExecuteTime": {
     "end_time": "2023-11-23T13:09:10.355746800Z",
     "start_time": "2023-11-23T13:09:10.331400900Z"
    }
   },
   "outputs": [],
   "source": [
    "class GCN(torch.nn.Module):\n",
    "    def __init__(self, num_features, num_classes):\n",
    "        super(GCN, self).__init__()\n",
    "        self.conv1 = GCNConv(num_features, 8)\n",
    "        self.conv2 = GCNConv(8, num_classes)\n",
    "\n",
    "    def forward(self, data):\n",
    "        x, edge_index = data.x, data.edge_index\n",
    "\n",
    "        x = F.relu(self.conv1(x, edge_index))\n",
    "        x = F.dropout(x, training=self.training)\n",
    "        x = self.conv2(x, edge_index)\n",
    "\n",
    "        # print(\"Output shape:\", x.shape)\n",
    "\n",
    "        return F.log_softmax(x, dim=1)"
   ]
  },
  {
   "cell_type": "markdown",
   "id": "fcac6aab",
   "metadata": {},
   "source": [
    "### GAT结构"
   ]
  },
  {
   "cell_type": "code",
   "execution_count": 10,
   "id": "75f764c2",
   "metadata": {
    "ExecuteTime": {
     "end_time": "2023-11-23T13:12:08.619188Z",
     "start_time": "2023-11-23T13:12:08.593874800Z"
    }
   },
   "outputs": [],
   "source": [
    "class GAT(torch.nn.Module):\n",
    "    def __init__(self, num_features, num_classes):\n",
    "        super(GAT, self).__init__()\n",
    "        self.conv1 = GATConv(num_features, 8, heads=8, dropout=0.6)\n",
    "        # 如果您想要多层 GAT，可以在这里添加更多层\n",
    "        self.conv2 = GATConv(8 * 8, num_classes, heads=1, concat=False, dropout=0.6)\n",
    "\n",
    "    def forward(self, data):\n",
    "        x, edge_index = data.x, data.edge_index\n",
    "\n",
    "        x = F.dropout(x, p=0.6, training=self.training)\n",
    "        x = F.elu(self.conv1(x, edge_index))\n",
    "        x = F.dropout(x, p=0.6, training=self.training)\n",
    "        x = self.conv2(x, edge_index)\n",
    "\n",
    "        return F.log_softmax(x, dim=1)"
   ]
  },
  {
   "cell_type": "markdown",
   "id": "138903d1",
   "metadata": {},
   "source": [
    "### 模型加载（GCN或GAT）"
   ]
  },
  {
   "cell_type": "code",
   "execution_count": 6,
   "id": "9640a104",
   "metadata": {
    "ExecuteTime": {
     "end_time": "2023-11-23T13:09:19.103699500Z",
     "start_time": "2023-11-23T13:09:19.083600Z"
    }
   },
   "outputs": [],
   "source": [
    "# GCN 图卷积网络\n",
    "model = GCN(num_features=num_features, num_classes=num_classes)"
   ]
  },
  {
   "cell_type": "code",
   "execution_count": 11,
   "id": "9a41a0a9",
   "metadata": {
    "ExecuteTime": {
     "end_time": "2023-11-23T13:12:11.665513800Z",
     "start_time": "2023-11-23T13:12:11.607162600Z"
    }
   },
   "outputs": [],
   "source": [
    " # GAT 注意力\n",
    "model = GAT(num_features=num_features, num_classes=num_classes)"
   ]
  },
  {
   "cell_type": "markdown",
   "id": "b5ce90b7",
   "metadata": {},
   "source": [
    "### 训练及测试"
   ]
  },
  {
   "cell_type": "code",
   "execution_count": 12,
   "id": "06113bd5",
   "metadata": {
    "ExecuteTime": {
     "end_time": "2023-11-23T13:17:04.192542100Z",
     "start_time": "2023-11-23T13:12:14.451869800Z"
    }
   },
   "outputs": [
    {
     "name": "stdout",
     "output_type": "stream",
     "text": [
      "Epoch: 001, Loss: 3.9452, Train: 0.7110, Val: 0.6960, Test: 0.7062\n",
      "Epoch: 002, Loss: 2.3426, Train: 0.7320, Val: 0.7201, Test: 0.7326\n",
      "Epoch: 003, Loss: 2.2869, Train: 0.7788, Val: 0.7670, Test: 0.7736\n",
      "Epoch: 004, Loss: 1.6315, Train: 0.8218, Val: 0.8168, Test: 0.8125\n",
      "Epoch: 005, Loss: 1.5502, Train: 0.8625, Val: 0.8513, Test: 0.8513\n",
      "Epoch: 006, Loss: 1.5056, Train: 0.8874, Val: 0.8747, Test: 0.8725\n",
      "Epoch: 007, Loss: 1.3600, Train: 0.8868, Val: 0.8667, Test: 0.8667\n",
      "Epoch: 008, Loss: 1.2320, Train: 0.8848, Val: 0.8667, Test: 0.8725\n",
      "Epoch: 009, Loss: 1.2654, Train: 0.8903, Val: 0.8711, Test: 0.8799\n",
      "Epoch: 010, Loss: 1.1843, Train: 0.8989, Val: 0.8791, Test: 0.8791\n",
      "Epoch: 011, Loss: 1.1507, Train: 0.9050, Val: 0.8842, Test: 0.8806\n",
      "Epoch: 012, Loss: 1.1131, Train: 0.9082, Val: 0.8879, Test: 0.8894\n",
      "Epoch: 013, Loss: 1.1271, Train: 0.9129, Val: 0.8923, Test: 0.8916\n",
      "Epoch: 014, Loss: 1.1164, Train: 0.9075, Val: 0.8894, Test: 0.8821\n",
      "Epoch: 015, Loss: 1.0514, Train: 0.9082, Val: 0.8916, Test: 0.8842\n",
      "Epoch: 016, Loss: 1.0414, Train: 0.9129, Val: 0.8945, Test: 0.8908\n",
      "Epoch: 017, Loss: 1.0392, Train: 0.9162, Val: 0.9004, Test: 0.8938\n",
      "Epoch: 018, Loss: 1.0077, Train: 0.9187, Val: 0.8982, Test: 0.8945\n",
      "Epoch: 019, Loss: 0.9878, Train: 0.9188, Val: 0.9004, Test: 0.8930\n",
      "Epoch: 020, Loss: 1.0383, Train: 0.9218, Val: 0.9062, Test: 0.8982\n",
      "Epoch: 021, Loss: 0.9343, Train: 0.9231, Val: 0.9062, Test: 0.8982\n",
      "Epoch: 022, Loss: 0.9652, Train: 0.9218, Val: 0.8982, Test: 0.8945\n",
      "Epoch: 023, Loss: 0.9525, Train: 0.9224, Val: 0.8974, Test: 0.8938\n",
      "Epoch: 024, Loss: 0.9448, Train: 0.9256, Val: 0.9018, Test: 0.8952\n",
      "Epoch: 025, Loss: 0.9038, Train: 0.9278, Val: 0.9004, Test: 0.8974\n",
      "Epoch: 026, Loss: 0.9032, Train: 0.9261, Val: 0.8989, Test: 0.8879\n",
      "Epoch: 027, Loss: 0.9293, Train: 0.9272, Val: 0.9033, Test: 0.8886\n",
      "Epoch: 028, Loss: 0.8919, Train: 0.9327, Val: 0.9062, Test: 0.8930\n",
      "Epoch: 029, Loss: 0.9183, Train: 0.9345, Val: 0.9092, Test: 0.8938\n",
      "Epoch: 030, Loss: 0.8503, Train: 0.9328, Val: 0.9040, Test: 0.8930\n",
      "Epoch: 031, Loss: 0.8714, Train: 0.9350, Val: 0.9033, Test: 0.8930\n",
      "Epoch: 032, Loss: 0.8702, Train: 0.9367, Val: 0.9048, Test: 0.8952\n",
      "Epoch: 033, Loss: 0.8589, Train: 0.9361, Val: 0.9004, Test: 0.8952\n",
      "Epoch: 034, Loss: 0.8627, Train: 0.9361, Val: 0.9018, Test: 0.8989\n",
      "Epoch: 035, Loss: 0.8449, Train: 0.9359, Val: 0.9055, Test: 0.8974\n",
      "Epoch: 036, Loss: 0.8525, Train: 0.9350, Val: 0.9062, Test: 0.8974\n",
      "Epoch: 037, Loss: 0.8420, Train: 0.9352, Val: 0.9048, Test: 0.9011\n",
      "Epoch: 038, Loss: 0.8421, Train: 0.9359, Val: 0.9055, Test: 0.8996\n",
      "Epoch: 039, Loss: 0.8462, Train: 0.9369, Val: 0.9055, Test: 0.8960\n",
      "Epoch: 040, Loss: 0.8533, Train: 0.9381, Val: 0.9055, Test: 0.8967\n",
      "Epoch: 041, Loss: 0.8433, Train: 0.9385, Val: 0.9062, Test: 0.8974\n",
      "Epoch: 042, Loss: 0.8054, Train: 0.9386, Val: 0.9040, Test: 0.8960\n",
      "Epoch: 043, Loss: 0.8422, Train: 0.9408, Val: 0.9062, Test: 0.8989\n",
      "Epoch: 044, Loss: 0.8182, Train: 0.9400, Val: 0.9077, Test: 0.8996\n",
      "Epoch: 045, Loss: 0.8774, Train: 0.9396, Val: 0.9062, Test: 0.9004\n",
      "Epoch: 046, Loss: 0.8236, Train: 0.9414, Val: 0.9062, Test: 0.8996\n",
      "Epoch: 047, Loss: 0.8246, Train: 0.9414, Val: 0.9099, Test: 0.9004\n",
      "Epoch: 048, Loss: 0.7971, Train: 0.9414, Val: 0.9092, Test: 0.8996\n",
      "Epoch: 049, Loss: 0.8029, Train: 0.9399, Val: 0.9040, Test: 0.8982\n",
      "Epoch: 050, Loss: 0.8172, Train: 0.9392, Val: 0.9048, Test: 0.8967\n",
      "Epoch: 051, Loss: 0.8124, Train: 0.9402, Val: 0.9084, Test: 0.8982\n",
      "Epoch: 052, Loss: 0.7933, Train: 0.9403, Val: 0.9099, Test: 0.8989\n",
      "Epoch: 053, Loss: 0.8284, Train: 0.9416, Val: 0.9143, Test: 0.8967\n",
      "Epoch: 054, Loss: 0.7966, Train: 0.9416, Val: 0.9150, Test: 0.8960\n",
      "Epoch: 055, Loss: 0.8129, Train: 0.9422, Val: 0.9099, Test: 0.8982\n",
      "Epoch: 056, Loss: 0.8474, Train: 0.9403, Val: 0.9055, Test: 0.8967\n",
      "Epoch: 057, Loss: 0.8356, Train: 0.9391, Val: 0.9026, Test: 0.8996\n",
      "Epoch: 058, Loss: 0.8118, Train: 0.9383, Val: 0.9011, Test: 0.8996\n",
      "Epoch: 059, Loss: 0.7872, Train: 0.9403, Val: 0.9040, Test: 0.9004\n",
      "Epoch: 060, Loss: 0.7959, Train: 0.9424, Val: 0.9062, Test: 0.9033\n",
      "Epoch: 061, Loss: 0.7820, Train: 0.9430, Val: 0.9143, Test: 0.9026\n",
      "Epoch: 062, Loss: 0.7937, Train: 0.9441, Val: 0.9143, Test: 0.9018\n",
      "Epoch: 063, Loss: 0.7974, Train: 0.9433, Val: 0.9114, Test: 0.9018\n",
      "Epoch: 064, Loss: 0.8038, Train: 0.9444, Val: 0.9092, Test: 0.8960\n",
      "Epoch: 065, Loss: 0.7896, Train: 0.9447, Val: 0.9114, Test: 0.8974\n",
      "Epoch: 066, Loss: 0.8140, Train: 0.9463, Val: 0.9106, Test: 0.8989\n",
      "Epoch: 067, Loss: 0.7899, Train: 0.9452, Val: 0.9099, Test: 0.8989\n",
      "Epoch: 068, Loss: 0.8182, Train: 0.9438, Val: 0.9106, Test: 0.9011\n",
      "Epoch: 069, Loss: 0.8120, Train: 0.9433, Val: 0.9128, Test: 0.8974\n",
      "Epoch: 070, Loss: 0.7862, Train: 0.9413, Val: 0.9136, Test: 0.8967\n",
      "Epoch: 071, Loss: 0.7920, Train: 0.9433, Val: 0.9114, Test: 0.8982\n",
      "Epoch: 072, Loss: 0.8165, Train: 0.9418, Val: 0.9062, Test: 0.9018\n",
      "Epoch: 073, Loss: 0.7792, Train: 0.9436, Val: 0.9048, Test: 0.8996\n",
      "Epoch: 074, Loss: 0.7881, Train: 0.9454, Val: 0.9070, Test: 0.9018\n",
      "Epoch: 075, Loss: 0.7798, Train: 0.9465, Val: 0.9114, Test: 0.9011\n",
      "Epoch: 076, Loss: 0.8174, Train: 0.9484, Val: 0.9099, Test: 0.9004\n",
      "Epoch: 077, Loss: 0.8219, Train: 0.9462, Val: 0.9114, Test: 0.9026\n",
      "Epoch: 078, Loss: 0.7722, Train: 0.9441, Val: 0.9136, Test: 0.8982\n",
      "Epoch: 079, Loss: 0.7957, Train: 0.9452, Val: 0.9106, Test: 0.8960\n",
      "Epoch: 080, Loss: 0.7846, Train: 0.9460, Val: 0.9077, Test: 0.8989\n",
      "Epoch: 081, Loss: 0.7745, Train: 0.9447, Val: 0.9092, Test: 0.9004\n",
      "Epoch: 082, Loss: 0.7636, Train: 0.9447, Val: 0.9121, Test: 0.9018\n",
      "Epoch: 083, Loss: 0.7933, Train: 0.9468, Val: 0.9121, Test: 0.9026\n",
      "Epoch: 084, Loss: 0.7970, Train: 0.9455, Val: 0.9143, Test: 0.9033\n",
      "Epoch: 085, Loss: 0.7875, Train: 0.9454, Val: 0.9143, Test: 0.9033\n",
      "Epoch: 086, Loss: 0.7961, Train: 0.9463, Val: 0.9106, Test: 0.9040\n",
      "Epoch: 087, Loss: 0.7923, Train: 0.9484, Val: 0.9121, Test: 0.9055\n",
      "Epoch: 088, Loss: 0.7942, Train: 0.9435, Val: 0.9084, Test: 0.9033\n",
      "Epoch: 089, Loss: 0.7951, Train: 0.9413, Val: 0.9062, Test: 0.8996\n",
      "Epoch: 090, Loss: 0.8283, Train: 0.9454, Val: 0.9099, Test: 0.9004\n",
      "Epoch: 091, Loss: 0.7819, Train: 0.9441, Val: 0.9114, Test: 0.9011\n",
      "Epoch: 092, Loss: 0.7570, Train: 0.9429, Val: 0.9121, Test: 0.9004\n",
      "Epoch: 093, Loss: 0.8132, Train: 0.9444, Val: 0.9128, Test: 0.8996\n",
      "Epoch: 094, Loss: 0.8104, Train: 0.9455, Val: 0.9128, Test: 0.9018\n",
      "Epoch: 095, Loss: 0.7988, Train: 0.9457, Val: 0.9114, Test: 0.9011\n",
      "Epoch: 096, Loss: 0.7951, Train: 0.9455, Val: 0.9092, Test: 0.9011\n",
      "Epoch: 097, Loss: 0.7596, Train: 0.9499, Val: 0.9128, Test: 0.9026\n",
      "Epoch: 098, Loss: 0.7971, Train: 0.9507, Val: 0.9114, Test: 0.9004\n",
      "Epoch: 099, Loss: 0.7961, Train: 0.9527, Val: 0.9121, Test: 0.9033\n",
      "Epoch: 100, Loss: 0.8043, Train: 0.9515, Val: 0.9114, Test: 0.9055\n",
      "Epoch: 101, Loss: 0.8090, Train: 0.9507, Val: 0.9121, Test: 0.9011\n",
      "Epoch: 102, Loss: 0.7997, Train: 0.9504, Val: 0.9106, Test: 0.9062\n",
      "Epoch: 103, Loss: 0.8474, Train: 0.9485, Val: 0.9070, Test: 0.9033\n",
      "Epoch: 104, Loss: 0.7791, Train: 0.9468, Val: 0.9099, Test: 0.9026\n",
      "Epoch: 105, Loss: 0.8114, Train: 0.9458, Val: 0.9033, Test: 0.9018\n",
      "Epoch: 106, Loss: 0.8284, Train: 0.9452, Val: 0.9011, Test: 0.9033\n",
      "Epoch: 107, Loss: 0.8110, Train: 0.9444, Val: 0.9048, Test: 0.9099\n",
      "Epoch: 108, Loss: 0.7657, Train: 0.9455, Val: 0.9048, Test: 0.9070\n",
      "Epoch: 109, Loss: 0.8143, Train: 0.9479, Val: 0.9070, Test: 0.9055\n",
      "Epoch: 110, Loss: 0.8393, Train: 0.9480, Val: 0.9084, Test: 0.9070\n",
      "Epoch: 111, Loss: 0.8177, Train: 0.9471, Val: 0.9084, Test: 0.9026\n",
      "Epoch: 112, Loss: 0.8382, Train: 0.9473, Val: 0.9099, Test: 0.9011\n",
      "Epoch: 113, Loss: 0.7519, Train: 0.9495, Val: 0.9077, Test: 0.9004\n",
      "Epoch: 114, Loss: 0.8084, Train: 0.9499, Val: 0.9062, Test: 0.9026\n",
      "Epoch: 115, Loss: 0.7786, Train: 0.9499, Val: 0.9084, Test: 0.9055\n",
      "Epoch: 116, Loss: 0.8084, Train: 0.9487, Val: 0.9099, Test: 0.9040\n",
      "Epoch: 117, Loss: 0.8306, Train: 0.9487, Val: 0.9114, Test: 0.9040\n",
      "Epoch: 118, Loss: 0.8028, Train: 0.9488, Val: 0.9114, Test: 0.9026\n",
      "Epoch: 119, Loss: 0.8070, Train: 0.9499, Val: 0.9128, Test: 0.9070\n",
      "Epoch: 120, Loss: 0.8124, Train: 0.9505, Val: 0.9106, Test: 0.9062\n",
      "Epoch: 121, Loss: 0.8081, Train: 0.9495, Val: 0.9121, Test: 0.9033\n",
      "Epoch: 122, Loss: 0.8361, Train: 0.9468, Val: 0.9136, Test: 0.9033\n",
      "Epoch: 123, Loss: 0.8076, Train: 0.9462, Val: 0.9128, Test: 0.9040\n",
      "Epoch: 124, Loss: 0.8606, Train: 0.9462, Val: 0.9114, Test: 0.9062\n",
      "Epoch: 125, Loss: 0.8379, Train: 0.9463, Val: 0.9143, Test: 0.9018\n",
      "Epoch: 126, Loss: 0.8189, Train: 0.9468, Val: 0.9099, Test: 0.9040\n",
      "Epoch: 127, Loss: 0.8022, Train: 0.9488, Val: 0.9106, Test: 0.9062\n",
      "Epoch: 128, Loss: 0.8022, Train: 0.9474, Val: 0.9077, Test: 0.9048\n",
      "Epoch: 129, Loss: 0.8201, Train: 0.9501, Val: 0.9128, Test: 0.9055\n",
      "Epoch: 130, Loss: 0.8298, Train: 0.9466, Val: 0.9121, Test: 0.9092\n",
      "Epoch: 131, Loss: 0.8559, Train: 0.9485, Val: 0.9106, Test: 0.9092\n",
      "Epoch: 132, Loss: 0.8141, Train: 0.9513, Val: 0.9150, Test: 0.9077\n",
      "Epoch: 133, Loss: 0.8044, Train: 0.9485, Val: 0.9106, Test: 0.9055\n",
      "Epoch: 134, Loss: 0.8163, Train: 0.9513, Val: 0.9092, Test: 0.9048\n",
      "Epoch: 135, Loss: 0.8245, Train: 0.9518, Val: 0.9106, Test: 0.9048\n",
      "Epoch: 136, Loss: 0.8209, Train: 0.9476, Val: 0.9048, Test: 0.9070\n",
      "Epoch: 137, Loss: 0.8096, Train: 0.9479, Val: 0.9062, Test: 0.9055\n",
      "Epoch: 138, Loss: 0.8728, Train: 0.9515, Val: 0.9121, Test: 0.9062\n",
      "Epoch: 139, Loss: 0.8343, Train: 0.9515, Val: 0.9143, Test: 0.9026\n",
      "Epoch: 140, Loss: 0.8271, Train: 0.9501, Val: 0.9165, Test: 0.9011\n",
      "Epoch: 141, Loss: 0.8527, Train: 0.9477, Val: 0.9150, Test: 0.9048\n",
      "Epoch: 142, Loss: 0.7917, Train: 0.9487, Val: 0.9114, Test: 0.9070\n",
      "Epoch: 143, Loss: 0.8309, Train: 0.9471, Val: 0.9084, Test: 0.9026\n",
      "Epoch: 144, Loss: 0.8444, Train: 0.9488, Val: 0.9077, Test: 0.9011\n",
      "Epoch: 145, Loss: 0.8325, Train: 0.9476, Val: 0.9099, Test: 0.9026\n",
      "Epoch: 146, Loss: 0.8340, Train: 0.9477, Val: 0.9099, Test: 0.9055\n",
      "Epoch: 147, Loss: 0.8737, Train: 0.9504, Val: 0.9121, Test: 0.9070\n",
      "Epoch: 148, Loss: 0.8439, Train: 0.9499, Val: 0.9150, Test: 0.9077\n",
      "Epoch: 149, Loss: 0.8842, Train: 0.9480, Val: 0.9092, Test: 0.9048\n",
      "Epoch: 150, Loss: 0.8357, Train: 0.9477, Val: 0.9055, Test: 0.9070\n",
      "Epoch: 151, Loss: 0.8602, Train: 0.9458, Val: 0.9048, Test: 0.9055\n",
      "Epoch: 152, Loss: 0.8573, Train: 0.9446, Val: 0.9040, Test: 0.9062\n",
      "Epoch: 153, Loss: 0.9017, Train: 0.9469, Val: 0.9121, Test: 0.9055\n",
      "Epoch: 154, Loss: 0.8775, Train: 0.9452, Val: 0.9114, Test: 0.9048\n",
      "Epoch: 155, Loss: 0.9401, Train: 0.9457, Val: 0.9114, Test: 0.9055\n",
      "Epoch: 156, Loss: 0.8726, Train: 0.9449, Val: 0.9121, Test: 0.9062\n",
      "Epoch: 157, Loss: 0.9124, Train: 0.9469, Val: 0.9121, Test: 0.9048\n",
      "Epoch: 158, Loss: 0.8779, Train: 0.9469, Val: 0.9136, Test: 0.9011\n",
      "Epoch: 159, Loss: 0.8913, Train: 0.9458, Val: 0.9121, Test: 0.9018\n",
      "Epoch: 160, Loss: 0.8736, Train: 0.9474, Val: 0.9106, Test: 0.9011\n",
      "Epoch: 161, Loss: 0.8840, Train: 0.9449, Val: 0.9062, Test: 0.9018\n",
      "Epoch: 162, Loss: 0.8582, Train: 0.9451, Val: 0.9040, Test: 0.9026\n",
      "Epoch: 163, Loss: 0.9014, Train: 0.9449, Val: 0.9077, Test: 0.9011\n",
      "Epoch: 164, Loss: 0.8931, Train: 0.9473, Val: 0.9106, Test: 0.8996\n",
      "Epoch: 165, Loss: 0.9042, Train: 0.9491, Val: 0.9114, Test: 0.8989\n",
      "Epoch: 166, Loss: 0.8837, Train: 0.9480, Val: 0.9121, Test: 0.9026\n",
      "Epoch: 167, Loss: 0.8507, Train: 0.9496, Val: 0.9121, Test: 0.9040\n",
      "Epoch: 168, Loss: 0.8607, Train: 0.9473, Val: 0.9070, Test: 0.9055\n",
      "Epoch: 169, Loss: 0.8550, Train: 0.9471, Val: 0.9092, Test: 0.9033\n",
      "Epoch: 170, Loss: 0.8712, Train: 0.9479, Val: 0.9055, Test: 0.9077\n",
      "Epoch: 171, Loss: 0.8380, Train: 0.9476, Val: 0.9062, Test: 0.9026\n",
      "Epoch: 172, Loss: 0.8498, Train: 0.9479, Val: 0.9055, Test: 0.9033\n",
      "Epoch: 173, Loss: 0.8667, Train: 0.9490, Val: 0.9084, Test: 0.9048\n",
      "Epoch: 174, Loss: 0.8254, Train: 0.9436, Val: 0.9055, Test: 0.9026\n",
      "Epoch: 175, Loss: 0.8622, Train: 0.9458, Val: 0.9136, Test: 0.9055\n",
      "Epoch: 176, Loss: 0.8514, Train: 0.9469, Val: 0.9114, Test: 0.9070\n",
      "Epoch: 177, Loss: 0.8571, Train: 0.9476, Val: 0.9143, Test: 0.9092\n",
      "Epoch: 178, Loss: 0.8405, Train: 0.9493, Val: 0.9143, Test: 0.9092\n",
      "Epoch: 179, Loss: 0.8460, Train: 0.9488, Val: 0.9121, Test: 0.9070\n",
      "Epoch: 180, Loss: 0.8676, Train: 0.9498, Val: 0.9092, Test: 0.9048\n",
      "Epoch: 181, Loss: 0.8594, Train: 0.9484, Val: 0.9070, Test: 0.8989\n",
      "Epoch: 182, Loss: 0.8309, Train: 0.9460, Val: 0.9070, Test: 0.8974\n",
      "Epoch: 183, Loss: 0.8484, Train: 0.9458, Val: 0.9077, Test: 0.8974\n",
      "Epoch: 184, Loss: 0.8566, Train: 0.9455, Val: 0.9040, Test: 0.8982\n",
      "Epoch: 185, Loss: 0.8304, Train: 0.9477, Val: 0.9018, Test: 0.9011\n",
      "Epoch: 186, Loss: 0.8297, Train: 0.9477, Val: 0.9062, Test: 0.8989\n",
      "Epoch: 187, Loss: 0.8199, Train: 0.9484, Val: 0.9070, Test: 0.9084\n",
      "Epoch: 188, Loss: 0.8231, Train: 0.9496, Val: 0.9092, Test: 0.9018\n",
      "Epoch: 189, Loss: 0.8141, Train: 0.9499, Val: 0.9128, Test: 0.9004\n",
      "Epoch: 190, Loss: 0.8811, Train: 0.9488, Val: 0.9121, Test: 0.8996\n",
      "Epoch: 191, Loss: 0.8282, Train: 0.9507, Val: 0.9121, Test: 0.9011\n",
      "Epoch: 192, Loss: 0.8788, Train: 0.9504, Val: 0.9121, Test: 0.9055\n",
      "Epoch: 193, Loss: 0.8317, Train: 0.9471, Val: 0.9114, Test: 0.9018\n",
      "Epoch: 194, Loss: 0.9107, Train: 0.9476, Val: 0.9121, Test: 0.8974\n",
      "Epoch: 195, Loss: 0.8000, Train: 0.9504, Val: 0.9128, Test: 0.9018\n",
      "Epoch: 196, Loss: 0.8792, Train: 0.9496, Val: 0.9099, Test: 0.8982\n",
      "Epoch: 197, Loss: 0.8459, Train: 0.9471, Val: 0.9099, Test: 0.8982\n",
      "Epoch: 198, Loss: 0.8587, Train: 0.9451, Val: 0.9092, Test: 0.8989\n",
      "Epoch: 199, Loss: 0.8097, Train: 0.9455, Val: 0.9114, Test: 0.9004\n",
      "Epoch: 200, Loss: 0.8518, Train: 0.9480, Val: 0.9143, Test: 0.9011\n"
     ]
    }
   ],
   "source": [
    "# 训练\n",
    "def train():\n",
    "    model.train()\n",
    "    optimizer.zero_grad()\n",
    "    out = model(data)\n",
    "    loss = F.nll_loss(out[data.train_mask], data.y[data.train_mask])\n",
    "    loss.backward()\n",
    "    optimizer.step()\n",
    "    return loss\n",
    "\n",
    "\n",
    "# 测试\n",
    "def test():\n",
    "    model.eval()\n",
    "    logits, accs = model(data), []\n",
    "    all_preds, all_labels = [], []\n",
    "\n",
    "    for _, mask in data('train_mask', 'val_mask', 'test_mask'):\n",
    "        pred = logits[mask].max(1)[1]\n",
    "\n",
    "        all_preds.extend(pred.tolist())\n",
    "        all_labels.extend(data.y[mask].tolist())\n",
    "\n",
    "        acc = pred.eq(data.y[mask]).sum().item() / mask.sum().item()\n",
    "        accs.append(acc)\n",
    "\n",
    "    precision = precision_score(all_labels, all_preds, average='macro', zero_division=0)\n",
    "    recall = recall_score(all_labels, all_preds, average='macro', zero_division=0)\n",
    "    f1 = f1_score(all_labels, all_preds, average='macro', zero_division=0)\n",
    "\n",
    "    return accs, precision, recall, f1\n",
    "\n",
    "\n",
    "# 用于保存损失和准确率的列表\n",
    "train_losses = []\n",
    "train_accuracies = []\n",
    "val_accuracies = []\n",
    "test_accuracies = []\n",
    "# 优化器\n",
    "optimizer = optim.Adam(model.parameters(), lr=0.1)\n",
    "\n",
    "# GCN和GAT的训练和测试循环\n",
    "for epoch in range(200):\n",
    "    loss = train()\n",
    "    torch.cuda.empty_cache()  # 清理 GPU 缓存\n",
    "    (train_acc, val_acc, test_acc), precision, recall, f1 = test()\n",
    "\n",
    "    # 保存数据\n",
    "    train_losses.append(loss.item())\n",
    "    train_accuracies.append(train_acc)\n",
    "    val_accuracies.append(val_acc)\n",
    "    test_accuracies.append(test_acc)\n",
    "\n",
    "    print(\n",
    "        f'Epoch: {epoch + 1:03d}, Loss: {loss:.4f}, Train: {train_acc:.4f}, Val: {val_acc:.4f}, Test: {test_acc:.4f}')\n",
    "    print(f'Epoch: {epoch + 1:03d}, Precision: {precision:.4f}, Recall: {recall:.4f}, F1 Score: {f1:.4f}')"
   ]
  },
  {
   "cell_type": "markdown",
   "id": "d59e05fc",
   "metadata": {},
   "source": [
    "### 作图及保存模型"
   ]
  },
  {
   "cell_type": "code",
   "execution_count": 13,
   "id": "fa2228c9",
   "metadata": {
    "ExecuteTime": {
     "end_time": "2023-11-23T13:17:33.066180400Z",
     "start_time": "2023-11-23T13:17:32.740029100Z"
    }
   },
   "outputs": [
    {
     "data": {
      "text/plain": "<Figure size 1000x500 with 1 Axes>",
      "image/png": "[encoded data removed]"
     },
     "metadata": {},
     "output_type": "display_data"
    },
    {
     "data": {
      "text/plain": "<Figure size 1000x500 with 1 Axes>",
      "image/png": "[encoded data removed]"
     },
     "metadata": {},
     "output_type": "display_data"
    }
   ],
   "source": [
    "def plot_training_results(train_losses, train_accuracies, val_accuracies, test_accuracies):\n",
    "    # 绘制损失图\n",
    "    plt.figure(figsize=(10, 5))\n",
    "    plt.plot(train_losses, label='Training Loss')\n",
    "    plt.title(\"Training Loss per Epoch\")\n",
    "    plt.xlabel(\"Epoch\")\n",
    "    plt.ylabel(\"Loss\")\n",
    "    plt.legend()\n",
    "    plt.show()\n",
    "\n",
    "    # 绘制准确率图\n",
    "    plt.figure(figsize=(10, 5))\n",
    "    plt.plot(train_accuracies, label='Training Accuracy')\n",
    "    plt.plot(val_accuracies, label='Validation Accuracy')\n",
    "    plt.plot(test_accuracies, label='Test Accuracy')\n",
    "    plt.title(\"Accuracy per Epoch\")\n",
    "    plt.xlabel(\"Epoch\")\n",
    "    plt.ylabel(\"Accuracy\")\n",
    "    plt.legend()\n",
    "    plt.show()\n",
    "\n",
    "\n",
    "plot_training_results(train_losses, train_accuracies, val_accuracies, test_accuracies)\n",
    "torch.save(model, 'model/model_GAT.pth')"
   ]
  },
  {
   "cell_type": "markdown",
   "id": "8c5da069",
   "metadata": {},
   "source": [
    "## CNN and LSTM 实现"
   ]
  },
  {
   "cell_type": "markdown",
   "id": "bec1e254",
   "metadata": {},
   "source": [
    "## 参数初始化"
   ]
  },
  {
   "cell_type": "code",
   "execution_count": null,
   "id": "fc9dc438",
   "metadata": {},
   "outputs": [],
   "source": [
    "def tokenize_and_pad_texts(texts, max_len=500):\n",
    "    # 创建并训练分词器\n",
    "    tokenizer = Tokenizer()\n",
    "    tokenizer.fit_on_texts(texts)\n",
    "\n",
    "    # 将文本转换为整数序列\n",
    "    sequences = tokenizer.texts_to_sequences(texts)\n",
    "\n",
    "    # 填充序列以获得统一的长度\n",
    "    padded_sequences = pad_sequences(sequences, maxlen=max_len, padding='post')\n",
    "\n",
    "    return padded_sequences, tokenizer.word_index\n",
    "\n",
    "\n",
    "# 设定最大序列长度\n",
    "MAX_SEQUENCE_LENGTH = 50\n",
    "# 获取整数序列和词汇表\n",
    "texts_int_seq, word_index = tokenize_and_pad_texts(texts, MAX_SEQUENCE_LENGTH)\n",
    "VOCAB_SIZE = len(word_index) + 1  # 加1因为索引0通常是填充符号\n",
    "EMBEDDING_DIM = 100  # 可以根据需要调整\n",
    "FILTER_SIZES = [3, 4, 5]  # 卷积核的大小\n",
    "NUM_FILTERS = 100  # 每种大小的卷积核的数量\n",
    "NUM_CLASSES = len(set(labels))  # 类别数\n",
    "# 获取整数序列和词汇表\n",
    "texts_tensor = torch.tensor(texts_int_seq, dtype=torch.long)  # 转换为 Tensor\n",
    "# 加载标签\n",
    "labels_tensor = torch.tensor(labels, dtype=torch.long)"
   ]
  },
  {
   "cell_type": "markdown",
   "id": "bb8eda03",
   "metadata": {},
   "source": [
    "### CNN结构"
   ]
  },
  {
   "cell_type": "code",
   "execution_count": null,
   "id": "aafbabb5",
   "metadata": {},
   "outputs": [],
   "source": [
    "class TextCNN(nn.Module):\n",
    "    def __init__(self, vocab_size, embedding_dim, num_classes, filter_sizes, num_filters):\n",
    "        super(TextCNN, self).__init__()\n",
    "        self.embedding = nn.Embedding(vocab_size, embedding_dim)\n",
    "        self.convs = nn.ModuleList(\n",
    "            [nn.Conv2d(1, num_filters, (k, embedding_dim)) for k in filter_sizes]\n",
    "        )\n",
    "        self.dropout = nn.Dropout(0.5)\n",
    "        self.fc = nn.Linear(len(filter_sizes) * num_filters, num_classes)\n",
    "\n",
    "    def forward(self, x):\n",
    "        x = self.embedding(x)  # [N, L, D]\n",
    "        x = x.unsqueeze(1)  # [N, 1, L, D]\n",
    "        x = [F.relu(conv(x)).squeeze(3) for conv in self.convs]  # [(N, Co, L), ...] * len(Ks)\n",
    "        x = [F.max_pool1d(i, i.size(2)).squeeze(2) for i in x]  # [(N, Co), ...] * len(Ks)\n",
    "        x = torch.cat(x, 1)\n",
    "        x = self.dropout(x)\n",
    "        logit = self.fc(x)\n",
    "        return logit"
   ]
  },
  {
   "cell_type": "markdown",
   "id": "235a5f04",
   "metadata": {},
   "source": [
    "### LSTM结构"
   ]
  },
  {
   "cell_type": "code",
   "execution_count": null,
   "id": "5465739d",
   "metadata": {},
   "outputs": [],
   "source": [
    "class TextLSTM(nn.Module):\n",
    "    def __init__(self, vocab_size, embedding_dim, hidden_dim, num_classes):\n",
    "        super(TextLSTM, self).__init__()\n",
    "        self.embedding = nn.Embedding(vocab_size, embedding_dim)\n",
    "        self.lstm = nn.LSTM(embedding_dim, hidden_dim, num_layers=1, batch_first=True)\n",
    "        self.fc = nn.Linear(hidden_dim, num_classes)\n",
    "\n",
    "    def forward(self, x):\n",
    "        x = self.embedding(x)  # [N, L, D]\n",
    "        x, (h_n, c_n) = self.lstm(x)  # h_n is the hidden state\n",
    "        x = h_n[-1, :, :]  # Take the last layer hidden state\n",
    "        x = self.fc(x)\n",
    "        return F.log_softmax(x, dim=1)"
   ]
  },
  {
   "cell_type": "markdown",
   "id": "99eb870c",
   "metadata": {},
   "source": [
    "### 模型加载"
   ]
  },
  {
   "cell_type": "code",
   "execution_count": null,
   "id": "aa073e41",
   "metadata": {},
   "outputs": [],
   "source": [
    "# CNN模型加载\n",
    "model = TextCNN(VOCAB_SIZE, EMBEDDING_DIM, NUM_CLASSES, FILTER_SIZES, NUM_FILTERS)"
   ]
  },
  {
   "cell_type": "code",
   "execution_count": null,
   "id": "ed447326",
   "metadata": {},
   "outputs": [],
   "source": [
    "# LSTM模型加载\n",
    "HIDDEN_DIM = 128  # 隐藏层维度，可以调整\n",
    "model = TextLSTM(VOCAB_SIZE, EMBEDDING_DIM, HIDDEN_DIM, NUM_CLASSES)"
   ]
  },
  {
   "cell_type": "markdown",
   "id": "84899986",
   "metadata": {},
   "source": [
    "### 训练和测试"
   ]
  },
  {
   "cell_type": "code",
   "execution_count": null,
   "id": "d262674a",
   "metadata": {},
   "outputs": [],
   "source": [
    "def train_cnn():\n",
    "    model.train()\n",
    "    optimizer.zero_grad()\n",
    "    out = model(texts_tensor)  # 使用处理过的文本序列\n",
    "    loss = F.cross_entropy(out[train_mask], labels_tensor[train_mask])\n",
    "    loss.backward()\n",
    "    optimizer.step()\n",
    "    return loss\n",
    "\n",
    "\n",
    "def test_cnn():\n",
    "    model.eval()\n",
    "    logits = model(texts_tensor)  # 使用处理过的文本序列\n",
    "    accs = []\n",
    "    for mask in [train_mask, val_mask, test_mask]:\n",
    "        pred = logits[mask].max(1)[1]\n",
    "        acc = pred.eq(labels_tensor[mask]).sum().item() / mask.sum().item()\n",
    "        accs.append(acc)\n",
    "    return accs\n",
    "\n",
    "\n",
    "# 优化器\n",
    "optimizer = optim.Adam(model.parameters(), lr=0.001)\n",
    "\n",
    "for epoch in range(200):\n",
    "    loss = train_cnn()\n",
    "    torch.cuda.empty_cache()  # 清理 GPU 缓存\n",
    "    train_acc, val_acc, test_acc = test_cnn()\n",
    "\n",
    "    # 保存数据\n",
    "    train_losses.append(loss.item())\n",
    "    train_accuracies.append(train_acc)\n",
    "    val_accuracies.append(val_acc)\n",
    "    test_accuracies.append(test_acc)\n",
    "    print(\n",
    "        f'Epoch: {epoch + 1:03d}, Loss: {loss:.4f}, Train: {train_acc:.4f}, Val: {val_acc:.4f}, Test: {test_acc:.4f}')\n"
   ]
  },
  {
   "cell_type": "markdown",
   "id": "e17c7c09",
   "metadata": {},
   "source": [
    "### 作图及保存模型"
   ]
  },
  {
   "cell_type": "code",
   "execution_count": null,
   "id": "401dea8e",
   "metadata": {},
   "outputs": [],
   "source": [
    "def plot_training_results(train_losses, train_accuracies, val_accuracies, test_accuracies):\n",
    "    # 绘制损失图\n",
    "    plt.figure(figsize=(10, 5))\n",
    "    plt.plot(train_losses, label='Training Loss')\n",
    "    plt.title(\"Training Loss per Epoch\")\n",
    "    plt.xlabel(\"Epoch\")\n",
    "    plt.ylabel(\"Loss\")\n",
    "    plt.legend()\n",
    "    plt.show()\n",
    "\n",
    "    # 绘制准确率图\n",
    "    plt.figure(figsize=(10, 5))\n",
    "    plt.plot(train_accuracies, label='Training Accuracy')\n",
    "    plt.plot(val_accuracies, label='Validation Accuracy')\n",
    "    plt.plot(test_accuracies, label='Test Accuracy')\n",
    "    plt.title(\"Accuracy per Epoch\")\n",
    "    plt.xlabel(\"Epoch\")\n",
    "    plt.ylabel(\"Accuracy\")\n",
    "    plt.legend()\n",
    "    plt.show()\n",
    "\n",
    "\n",
    "plot_training_results(train_losses, train_accuracies, val_accuracies, test_accuracies)\n",
    "torch.save(model, 'model/model_CNN.pth')"
   ]
  }
 ],
 "metadata": {
  "kernelspec": {
   "display_name": "Python 3 (ipykernel)",
   "language": "python",
   "name": "python3"
  },
  "language_info": {
   "codemirror_mode": {
    "name": "ipython",
    "version": 3
   },
   "file_extension": ".py",
   "mimetype": "text/x-python",
   "name": "python",
   "nbconvert_exporter": "python",
   "pygments_lexer": "ipython3",
   "version": "3.9.18"
  }
 },
 "nbformat": 4,
 "nbformat_minor": 5
}
